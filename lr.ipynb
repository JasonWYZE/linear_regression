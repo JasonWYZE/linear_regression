{
 "cells": [
  {
   "cell_type": "code",
   "execution_count": 18,
   "metadata": {},
   "outputs": [
    {
     "name": "stdout",
     "output_type": "stream",
     "text": [
      "     Country  Score     GDP  Famiy  Health  Freedom  Generosity  Corruption  \\\n",
      "0         41  7.842  10.775  0.954  72.000    0.949      -0.098       0.186   \n",
      "1         34  7.620  10.933  0.954  72.700    0.946       0.030       0.179   \n",
      "2        129  7.571  11.117  0.942  74.400    0.919       0.025       0.292   \n",
      "3         55  7.554  10.878  0.983  73.000    0.955       0.160       0.673   \n",
      "4         97  7.464  10.932  0.942  72.400    0.913       0.175       0.338   \n",
      "..       ...    ...     ...    ...     ...      ...         ...         ...   \n",
      "144       75  3.512   7.926  0.787  48.700    0.715      -0.131       0.915   \n",
      "145       16  3.467   9.782  0.784  59.269    0.824      -0.246       0.801   \n",
      "146      115  3.415   7.676  0.552  61.400    0.897       0.061       0.167   \n",
      "147      149  3.145   7.943  0.750  56.201    0.677      -0.047       0.821   \n",
      "148        1  2.523   7.695  0.463  52.493    0.382      -0.102       0.924   \n",
      "\n",
      "     Rank  \n",
      "0       1  \n",
      "1       2  \n",
      "2       3  \n",
      "3       4  \n",
      "4       5  \n",
      "..    ...  \n",
      "144   145  \n",
      "145   146  \n",
      "146   147  \n",
      "147   148  \n",
      "148   149  \n",
      "\n",
      "[149 rows x 9 columns]\n"
     ]
    }
   ],
   "source": [
    "import pandas as pd\n",
    "import numpy as np\n",
    "import matplotlib.pyplot as plt\n",
    "import seaborn as sns\n",
    "\n",
    "df = pd.read_csv('Happiness 2021.csv')\n",
    "\n",
    "cols = [1,3,4,5,12,13,14,15,16,17,18,19]\n",
    "df.drop(df.columns[cols], axis = 1, inplace=True)\n",
    "\n",
    "df = df.rename(columns = {\"Country name\" : \"Country\", \"Ladder score\":\"Score\", \"Logged GDP per capita\" : \"GDP\", \n",
    "                          \"Social support\" : \"Famiy\",\n",
    "                          \"Healthy life expectancy\" : \"Health\", \n",
    "                          \"Freedom to make life choices\" : \"Freedom\",\n",
    "                          \"Perceptions of corruption\" : \"Corruption\"})\n",
    "\n",
    "codes, uniques = pd.factorize(df.Country, sort= True )\n",
    "codes +=1\n",
    "df.Country = codes\n",
    "\n",
    "df['Rank'] = np.arange(len(df))+1\n",
    "print(df)\n",
    "\n",
    "\n",
    "\n"
   ]
  }
 ],
 "metadata": {
  "interpreter": {
   "hash": "07efdcd4b820c98a756949507a4d29d7862823915ec7477944641bea022f4f62"
  },
  "kernelspec": {
   "display_name": "Python 3.8.8 64-bit ('base': conda)",
   "name": "python3"
  },
  "language_info": {
   "codemirror_mode": {
    "name": "ipython",
    "version": 3
   },
   "file_extension": ".py",
   "mimetype": "text/x-python",
   "name": "python",
   "nbconvert_exporter": "python",
   "pygments_lexer": "ipython3",
   "version": "3.8.8"
  },
  "orig_nbformat": 4
 },
 "nbformat": 4,
 "nbformat_minor": 2
}
